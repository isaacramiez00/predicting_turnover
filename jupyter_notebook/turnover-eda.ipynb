{
 "cells": [
  {
   "cell_type": "code",
   "execution_count": 1,
   "metadata": {},
   "outputs": [],
   "source": [
    "import pandas as pd\n",
    "import matplotlib.pyplot as plt\n",
    "import seaborn as sns\n",
    "from IPython.display import Image as PImage\n",
    "from subprocess import check_call\n",
    "from PIL import Image, ImageDraw, ImageFont\n",
    "from sklearn.tree import export_graphviz\n",
    "from sklearn.model_selection import train_test_split\n",
    "from sklearn.metrics import confusion_matrix, roc_curve, auc"
   ]
  },
  {
   "cell_type": "code",
   "execution_count": 2,
   "metadata": {},
   "outputs": [],
   "source": [
    "# cleaning data \n",
    "turnover = pd.read_csv(\"../data/turnover.csv\")\n",
    "salary = turnover['salary'].value_counts()\n",
    "salary_col = list(salary.index)\n",
    "turnover[\"salary\"] = turnover[\"salary\"].astype('category').cat.reorder_categories(salary_col).cat.codes\n",
    "salary_code = turnover.salary.value_counts()\n",
    "salary_code_col = list(salary_code.index)\n",
    "\n",
    "salary_dict = {'salary': salary_col, 'code': salary_code_col}\n",
    "salary_df = pd.DataFrame(data=salary_dict) # use for eda\n",
    "\n",
    "rename_columns = {'satisfaction_level': 'satisfaction_level_percentage',\\\n",
    "                  'last_evaluation': 'last_evaluation_percentage',\\\n",
    "                  'time_spend_company': 'time_spend_company',\\\n",
    "                  'sales': 'department'}\n",
    "turnover.rename(columns=rename_columns, inplace=True)\n",
    "\n",
    "department = turnover.department.value_counts()\n",
    "department_col = list(department.index)\n",
    "turnover[\"department\"] = turnover[\"department\"].astype('category').cat.reorder_categories(department_col).cat.codes\n",
    "# department = pd.get_dummies(turnover[\"department\"])\n",
    "# turnover = turnover.drop([\"department\"], axis=1)\n",
    "department_code = turnover.department.value_counts()\n",
    "department_code_col = list(department_code.index)\n",
    "\n",
    "department_dict = {'department': department_col, 'code': department_code_col}\n",
    "department_df = pd.DataFrame(data=department_dict) # use for eda\n",
    "\n",
    "\n",
    "explained_encoding_values_df = turnover[['department', 'salary']]\n",
    "# explained_encoding_values_df['total']"
   ]
  },
  {
   "cell_type": "code",
   "execution_count": null,
   "metadata": {},
   "outputs": [],
   "source": [
    "\n",
    "# by_department\n",
    "y = turnover['left']\n",
    "dep_X = department\n",
    "\n",
    "\n",
    "# turnover.corr()\n",
    "# pd.plotting.scatter_matrix(turnover, figsize=(15,15));\n",
    "department"
   ]
  },
  {
   "cell_type": "code",
   "execution_count": null,
   "metadata": {},
   "outputs": [],
   "source": [
    "# plotting the correlation matrix\n",
    "# as seaborn is based on matplotlib, we need to use plt.show() to see the plot\n",
    "sns.heatmap(turnover.corr())\n",
    "plt.show()\n"
   ]
  },
  {
   "cell_type": "code",
   "execution_count": null,
   "metadata": {},
   "outputs": [],
   "source": [
    "turnover.info()"
   ]
  },
  {
   "cell_type": "code",
   "execution_count": null,
   "metadata": {},
   "outputs": [],
   "source": [
    "turnover.describe()"
   ]
  },
  {
   "cell_type": "code",
   "execution_count": null,
   "metadata": {},
   "outputs": [],
   "source": [
    "# joining the departments\n",
    "# turnover = turnover.join(department)\n",
    "# turnover.head()\n"
   ]
  },
  {
   "cell_type": "code",
   "execution_count": null,
   "metadata": {},
   "outputs": [],
   "source": [
    "# the percentage of leavers\n",
    "\n",
    "turnover['left'].value_counts()/len(turnover)"
   ]
  },
  {
   "cell_type": "code",
   "execution_count": null,
   "metadata": {},
   "outputs": [],
   "source": [
    "turnover['left'].value_counts()"
   ]
  },
  {
   "cell_type": "code",
   "execution_count": null,
   "metadata": {},
   "outputs": [],
   "source": [
    "columns = ['satisfaction_level', 'time_spend_company', 'Work_accident', 'salary']\n",
    "turnover[columns]"
   ]
  },
  {
   "cell_type": "code",
   "execution_count": null,
   "metadata": {},
   "outputs": [],
   "source": [
    "turnover.Work_accident.value_counts()"
   ]
  },
  {
   "cell_type": "code",
   "execution_count": null,
   "metadata": {},
   "outputs": [],
   "source": [
    "top_feat = ['satisfaction_level', 'time_spend_company']"
   ]
  },
  {
   "cell_type": "code",
   "execution_count": null,
   "metadata": {},
   "outputs": [],
   "source": [
    "from sklearn.tree import DecisionTreeClassifier\n",
    "from sklearn.ensemble import RandomForestClassifier\n",
    "from sklearn.ensemble import GradientBoostingClassifier\n",
    "from sklearn.ensemble import AdaBoostClassifier\n",
    "from sklearn.model_selection import train_test_split, cross_val_score\n"
   ]
  },
  {
   "cell_type": "code",
   "execution_count": null,
   "metadata": {},
   "outputs": [],
   "source": [
    "rf = RandomForestClassifier(n_estimators=100, n_jobs=-1, random_state=1)\n",
    "\n",
    "gdbr = GradientBoostingClassifier(learning_rate=0.1,\n",
    "                                 n_estimators=100, random_state=1)\n",
    "\n",
    "abr = AdaBoostClassifier(DecisionTreeClassifier(), learning_rate=0.1,\n",
    "                         n_estimators=100, random_state=1)"
   ]
  },
  {
   "cell_type": "code",
   "execution_count": null,
   "metadata": {},
   "outputs": [],
   "source": [
    "\n",
    "# y = turnover.pop('left').values\n",
    "y = y\n",
    "X = turnover[top_feat].values\n",
    "\n",
    "X_train, X_test, y_train, y_test = train_test_split(X, y, test_size=0.2, random_state=42)\n",
    "\n",
    "k = 10 # number of folds in the cross-validation \n",
    "print(cross_val_score(rf, X_train, y_train, cv=k))\n",
    "print(cross_val_score(gdbr, X_train, y_train, cv=k))\n",
    "print(cross_val_score(abr, X_train, y_train, cv=k));"
   ]
  },
  {
   "cell_type": "code",
   "execution_count": null,
   "metadata": {},
   "outputs": [],
   "source": [
    "import numpy as np\n",
    "np.unique(y)"
   ]
  },
  {
   "cell_type": "code",
   "execution_count": null,
   "metadata": {},
   "outputs": [],
   "source": [
    "# y_train\n",
    "turnover.columns"
   ]
  },
  {
   "cell_type": "code",
   "execution_count": null,
   "metadata": {},
   "outputs": [],
   "source": [
    "columns = \n",
    "for feat in columns:\n",
    "    turnover.plot.scatter(x=feat, y='left')"
   ]
  },
  {
   "cell_type": "code",
   "execution_count": null,
   "metadata": {},
   "outputs": [],
   "source": [
    "turnover['satisfaction_level'].value_counts()\n",
    "# turnover['satisfaction_level'].hist();\n",
    "# sum(turnover['satisfaction_level']"
   ]
  },
  {
   "cell_type": "code",
   "execution_count": null,
   "metadata": {},
   "outputs": [],
   "source": [
    "# turnover = turnover.join(department)"
   ]
  },
  {
   "cell_type": "code",
   "execution_count": null,
   "metadata": {},
   "outputs": [],
   "source": []
  },
  {
   "cell_type": "code",
   "execution_count": null,
   "metadata": {},
   "outputs": [],
   "source": []
  }
 ],
 "metadata": {
  "kernelspec": {
   "display_name": "Python 3",
   "language": "python",
   "name": "python3"
  },
  "language_info": {
   "codemirror_mode": {
    "name": "ipython",
    "version": 3
   },
   "file_extension": ".py",
   "mimetype": "text/x-python",
   "name": "python",
   "nbconvert_exporter": "python",
   "pygments_lexer": "ipython3",
   "version": "3.7.3"
  }
 },
 "nbformat": 4,
 "nbformat_minor": 2
}
